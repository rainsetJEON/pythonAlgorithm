{
 "cells": [
  {
   "cell_type": "code",
   "execution_count": 8,
   "metadata": {},
   "outputs": [
    {
     "name": "stdout",
     "output_type": "stream",
     "text": [
      "6\n"
     ]
    }
   ],
   "source": [
    "# 3-1 거스름돈\n",
    "n = 1260\n",
    "count = 0\n",
    "\n",
    "coin_types = [500,100,50,10]\n",
    "for coin in coin_types:\n",
    "    count += n // coin   # // : 몫\n",
    "    n %= coin  # % : 나머지\n",
    "\n",
    "print(count)"
   ]
  },
  {
   "attachments": {},
   "cell_type": "markdown",
   "metadata": {},
   "source": []
  }
 ],
 "metadata": {
  "kernelspec": {
   "display_name": "Python 3",
   "language": "python",
   "name": "python3"
  },
  "language_info": {
   "codemirror_mode": {
    "name": "ipython",
    "version": 3
   },
   "file_extension": ".py",
   "mimetype": "text/x-python",
   "name": "python",
   "nbconvert_exporter": "python",
   "pygments_lexer": "ipython3",
   "version": "3.11.5"
  },
  "orig_nbformat": 4,
  "vscode": {
   "interpreter": {
    "hash": "a2b771e1cad88e52a196c01e6d888e2fe4143d0760bdd4ea031f71c7e2e62ecd"
   }
  }
 },
 "nbformat": 4,
 "nbformat_minor": 2
}
